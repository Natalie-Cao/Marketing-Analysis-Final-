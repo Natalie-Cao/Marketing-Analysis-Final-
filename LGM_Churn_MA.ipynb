{
 "cells": [
  {
   "cell_type": "code",
   "execution_count": 1,
   "metadata": {},
   "outputs": [],
   "source": [
    "import pandas as pd \n",
    "from sklearn.mixture import GaussianMixture\n",
    "import numpy as np\n",
    "import matplotlib.pyplot as plt\n",
    "import seaborn as sns\n",
    "from sklearn.metrics import roc_auc_score\n",
    "from sklearn.model_selection import train_test_split\n",
    "from sklearn.linear_model import LogisticRegression\n",
    "from sklearn.metrics import confusion_matrix\n",
    "from sklearn import metrics"
   ]
  },
  {
   "cell_type": "code",
   "execution_count": 2,
   "metadata": {},
   "outputs": [],
   "source": [
    "df=pd.read_csv('subscribers.csv')"
   ]
  },
  {
   "cell_type": "code",
   "execution_count": 3,
   "metadata": {},
   "outputs": [],
   "source": [
    "df['cancel_date_bool']=df['cancel_date'].isna()"
   ]
  },
  {
   "cell_type": "code",
   "execution_count": 4,
   "metadata": {},
   "outputs": [],
   "source": [
    "#create churn column \n",
    "def function(a, b):\n",
    "    if a==True and b ==True:\n",
    "        return 0\n",
    "    else:\n",
    "        return 1\n",
    "\n",
    "df['churn'] = df.apply(lambda x: function(x.current_sub_TF, x.cancel_date_bool), axis = 1)\n"
   ]
  },
  {
   "cell_type": "code",
   "execution_count": 5,
   "metadata": {},
   "outputs": [],
   "source": [
    "df.to_csv('Churn.csv')"
   ]
  },
  {
   "cell_type": "code",
   "execution_count": 6,
   "metadata": {},
   "outputs": [],
   "source": [
    "df.drop(df.columns[ : 2], axis=1,inplace=True) "
   ]
  },
  {
   "cell_type": "code",
   "execution_count": 7,
   "metadata": {},
   "outputs": [],
   "source": [
    "df.drop(['country','plan_type','months_per_bill_period','language','trial_end_date','trial_completed','num_trial_days','trial_end_date','last_payment','monthly_price','attribution_survey','next_payment'], inplace = True, axis = 1)\n",
    "\n",
    "\n",
    "\n",
    "\n",
    "\n"
   ]
  },
  {
   "cell_type": "code",
   "execution_count": 8,
   "metadata": {},
   "outputs": [],
   "source": [
    "df.drop(['account_creation_date','cancel_date','cancel_date_bool'],axis=1,inplace=True)\n"
   ]
  },
  {
   "cell_type": "code",
   "execution_count": 9,
   "metadata": {},
   "outputs": [],
   "source": [
    "# in the age columns, several number are more than 100 or smaller than 0, which seems inaccurate, delete these rows. \n",
    "df=df[(df['age']<100) & (df['age']>5) & (df['weekly_consumption_hour']>0) & (df['join_fee']>0)]"
   ]
  },
  {
   "cell_type": "code",
   "execution_count": 10,
   "metadata": {},
   "outputs": [],
   "source": [
    "# to create dummy variables, first fill nan value with unknow\n",
    "df[['package_type','preferred_genre','op_sys','initial_credit_card_declined','intended_use','male_TF','attribution_technical','payment_type']]=df[['package_type','preferred_genre','op_sys','initial_credit_card_declined','intended_use','male_TF','attribution_technical','payment_type']].fillna('Unknow')"
   ]
  },
  {
   "cell_type": "code",
   "execution_count": 11,
   "metadata": {},
   "outputs": [],
   "source": [
    "# then fill missing value with their average number\n",
    "df=df.fillna(df.mean())"
   ]
  },
  {
   "cell_type": "code",
   "execution_count": 12,
   "metadata": {},
   "outputs": [],
   "source": [
    "df=pd.get_dummies(df, columns=['package_type','preferred_genre','op_sys','initial_credit_card_declined','intended_use','male_TF','attribution_technical','payment_type'], sparse=False, drop_first=True, dtype=int)\n"
   ]
  },
  {
   "cell_type": "code",
   "execution_count": 13,
   "metadata": {},
   "outputs": [],
   "source": [
    "df.drop('current_sub_TF', axis=1, inplace=True)"
   ]
  },
  {
   "cell_type": "code",
   "execution_count": 14,
   "metadata": {},
   "outputs": [],
   "source": [
    "df_period0=df[df['payment_period']==0]"
   ]
  },
  {
   "cell_type": "code",
   "execution_count": 15,
   "metadata": {},
   "outputs": [],
   "source": [
    "df_long=df[df['payment_period']!=0]"
   ]
  },
  {
   "cell_type": "code",
   "execution_count": 16,
   "metadata": {},
   "outputs": [
    {
     "name": "stderr",
     "output_type": "stream",
     "text": [
      "/Users/natalie/opt/anaconda3/lib/python3.8/site-packages/pandas/core/frame.py:3990: SettingWithCopyWarning: \n",
      "A value is trying to be set on a copy of a slice from a DataFrame\n",
      "\n",
      "See the caveats in the documentation: https://pandas.pydata.org/pandas-docs/stable/user_guide/indexing.html#returning-a-view-versus-a-copy\n",
      "  return super().drop(\n"
     ]
    }
   ],
   "source": [
    "df_long.drop('payment_period', axis=1, inplace=True)"
   ]
  },
  {
   "cell_type": "code",
   "execution_count": 17,
   "metadata": {},
   "outputs": [],
   "source": [
    "df_period0.drop('payment_period', axis=1, inplace=True)"
   ]
  },
  {
   "cell_type": "code",
   "execution_count": 18,
   "metadata": {},
   "outputs": [
    {
     "data": {
      "text/html": [
       "<div>\n",
       "<style scoped>\n",
       "    .dataframe tbody tr th:only-of-type {\n",
       "        vertical-align: middle;\n",
       "    }\n",
       "\n",
       "    .dataframe tbody tr th {\n",
       "        vertical-align: top;\n",
       "    }\n",
       "\n",
       "    .dataframe thead th {\n",
       "        text-align: right;\n",
       "    }\n",
       "</style>\n",
       "<table border=\"1\" class=\"dataframe\">\n",
       "  <thead>\n",
       "    <tr style=\"text-align: right;\">\n",
       "      <th></th>\n",
       "      <th>num_weekly_services_utilized</th>\n",
       "      <th>weekly_consumption_hour</th>\n",
       "      <th>num_ideal_streaming_services</th>\n",
       "      <th>age</th>\n",
       "      <th>discount_price</th>\n",
       "      <th>join_fee</th>\n",
       "      <th>churn</th>\n",
       "      <th>package_type_base</th>\n",
       "      <th>package_type_economy</th>\n",
       "      <th>package_type_enhanced</th>\n",
       "      <th>...</th>\n",
       "      <th>attribution_technical_search</th>\n",
       "      <th>attribution_technical_tv</th>\n",
       "      <th>attribution_technical_twitter</th>\n",
       "      <th>attribution_technical_vod</th>\n",
       "      <th>attribution_technical_youtube</th>\n",
       "      <th>payment_type_Najim</th>\n",
       "      <th>payment_type_Paypal</th>\n",
       "      <th>payment_type_RAKBANK</th>\n",
       "      <th>payment_type_Standard Charter</th>\n",
       "      <th>payment_type_Unknow</th>\n",
       "    </tr>\n",
       "  </thead>\n",
       "  <tbody>\n",
       "    <tr>\n",
       "      <th>1</th>\n",
       "      <td>3.011497</td>\n",
       "      <td>22.951579</td>\n",
       "      <td>2.062343</td>\n",
       "      <td>70.0</td>\n",
       "      <td>4.5141</td>\n",
       "      <td>0.3303</td>\n",
       "      <td>0</td>\n",
       "      <td>1</td>\n",
       "      <td>0</td>\n",
       "      <td>0</td>\n",
       "      <td>...</td>\n",
       "      <td>0</td>\n",
       "      <td>0</td>\n",
       "      <td>0</td>\n",
       "      <td>0</td>\n",
       "      <td>0</td>\n",
       "      <td>0</td>\n",
       "      <td>0</td>\n",
       "      <td>0</td>\n",
       "      <td>0</td>\n",
       "      <td>1</td>\n",
       "    </tr>\n",
       "    <tr>\n",
       "      <th>4</th>\n",
       "      <td>4.000000</td>\n",
       "      <td>22.951579</td>\n",
       "      <td>3.000000</td>\n",
       "      <td>28.0</td>\n",
       "      <td>4.5141</td>\n",
       "      <td>0.0367</td>\n",
       "      <td>0</td>\n",
       "      <td>1</td>\n",
       "      <td>0</td>\n",
       "      <td>0</td>\n",
       "      <td>...</td>\n",
       "      <td>0</td>\n",
       "      <td>0</td>\n",
       "      <td>0</td>\n",
       "      <td>0</td>\n",
       "      <td>0</td>\n",
       "      <td>0</td>\n",
       "      <td>0</td>\n",
       "      <td>0</td>\n",
       "      <td>0</td>\n",
       "      <td>1</td>\n",
       "    </tr>\n",
       "    <tr>\n",
       "      <th>5</th>\n",
       "      <td>3.011497</td>\n",
       "      <td>20.051667</td>\n",
       "      <td>2.062343</td>\n",
       "      <td>70.0</td>\n",
       "      <td>4.5141</td>\n",
       "      <td>0.3303</td>\n",
       "      <td>0</td>\n",
       "      <td>1</td>\n",
       "      <td>0</td>\n",
       "      <td>0</td>\n",
       "      <td>...</td>\n",
       "      <td>0</td>\n",
       "      <td>0</td>\n",
       "      <td>0</td>\n",
       "      <td>0</td>\n",
       "      <td>0</td>\n",
       "      <td>0</td>\n",
       "      <td>0</td>\n",
       "      <td>1</td>\n",
       "      <td>0</td>\n",
       "      <td>0</td>\n",
       "    </tr>\n",
       "    <tr>\n",
       "      <th>6</th>\n",
       "      <td>2.000000</td>\n",
       "      <td>20.051667</td>\n",
       "      <td>2.000000</td>\n",
       "      <td>61.0</td>\n",
       "      <td>4.5141</td>\n",
       "      <td>0.3303</td>\n",
       "      <td>0</td>\n",
       "      <td>1</td>\n",
       "      <td>0</td>\n",
       "      <td>0</td>\n",
       "      <td>...</td>\n",
       "      <td>0</td>\n",
       "      <td>0</td>\n",
       "      <td>0</td>\n",
       "      <td>0</td>\n",
       "      <td>0</td>\n",
       "      <td>0</td>\n",
       "      <td>0</td>\n",
       "      <td>0</td>\n",
       "      <td>1</td>\n",
       "      <td>0</td>\n",
       "    </tr>\n",
       "    <tr>\n",
       "      <th>8</th>\n",
       "      <td>3.011497</td>\n",
       "      <td>25.851492</td>\n",
       "      <td>2.062343</td>\n",
       "      <td>73.0</td>\n",
       "      <td>4.5141</td>\n",
       "      <td>0.6606</td>\n",
       "      <td>0</td>\n",
       "      <td>1</td>\n",
       "      <td>0</td>\n",
       "      <td>0</td>\n",
       "      <td>...</td>\n",
       "      <td>0</td>\n",
       "      <td>0</td>\n",
       "      <td>0</td>\n",
       "      <td>0</td>\n",
       "      <td>0</td>\n",
       "      <td>0</td>\n",
       "      <td>0</td>\n",
       "      <td>0</td>\n",
       "      <td>0</td>\n",
       "      <td>1</td>\n",
       "    </tr>\n",
       "    <tr>\n",
       "      <th>...</th>\n",
       "      <td>...</td>\n",
       "      <td>...</td>\n",
       "      <td>...</td>\n",
       "      <td>...</td>\n",
       "      <td>...</td>\n",
       "      <td>...</td>\n",
       "      <td>...</td>\n",
       "      <td>...</td>\n",
       "      <td>...</td>\n",
       "      <td>...</td>\n",
       "      <td>...</td>\n",
       "      <td>...</td>\n",
       "      <td>...</td>\n",
       "      <td>...</td>\n",
       "      <td>...</td>\n",
       "      <td>...</td>\n",
       "      <td>...</td>\n",
       "      <td>...</td>\n",
       "      <td>...</td>\n",
       "      <td>...</td>\n",
       "      <td>...</td>\n",
       "    </tr>\n",
       "    <tr>\n",
       "      <th>227615</th>\n",
       "      <td>3.011497</td>\n",
       "      <td>24.401536</td>\n",
       "      <td>2.062343</td>\n",
       "      <td>30.0</td>\n",
       "      <td>4.5141</td>\n",
       "      <td>0.0367</td>\n",
       "      <td>0</td>\n",
       "      <td>1</td>\n",
       "      <td>0</td>\n",
       "      <td>0</td>\n",
       "      <td>...</td>\n",
       "      <td>0</td>\n",
       "      <td>0</td>\n",
       "      <td>0</td>\n",
       "      <td>0</td>\n",
       "      <td>1</td>\n",
       "      <td>0</td>\n",
       "      <td>1</td>\n",
       "      <td>0</td>\n",
       "      <td>0</td>\n",
       "      <td>0</td>\n",
       "    </tr>\n",
       "    <tr>\n",
       "      <th>227621</th>\n",
       "      <td>3.011497</td>\n",
       "      <td>28.751405</td>\n",
       "      <td>2.062343</td>\n",
       "      <td>61.0</td>\n",
       "      <td>4.5141</td>\n",
       "      <td>0.3303</td>\n",
       "      <td>0</td>\n",
       "      <td>0</td>\n",
       "      <td>0</td>\n",
       "      <td>1</td>\n",
       "      <td>...</td>\n",
       "      <td>0</td>\n",
       "      <td>0</td>\n",
       "      <td>0</td>\n",
       "      <td>0</td>\n",
       "      <td>0</td>\n",
       "      <td>0</td>\n",
       "      <td>0</td>\n",
       "      <td>0</td>\n",
       "      <td>0</td>\n",
       "      <td>1</td>\n",
       "    </tr>\n",
       "    <tr>\n",
       "      <th>227623</th>\n",
       "      <td>3.000000</td>\n",
       "      <td>28.751405</td>\n",
       "      <td>2.000000</td>\n",
       "      <td>38.0</td>\n",
       "      <td>4.5141</td>\n",
       "      <td>0.3303</td>\n",
       "      <td>0</td>\n",
       "      <td>0</td>\n",
       "      <td>0</td>\n",
       "      <td>1</td>\n",
       "      <td>...</td>\n",
       "      <td>0</td>\n",
       "      <td>0</td>\n",
       "      <td>0</td>\n",
       "      <td>0</td>\n",
       "      <td>0</td>\n",
       "      <td>0</td>\n",
       "      <td>0</td>\n",
       "      <td>0</td>\n",
       "      <td>0</td>\n",
       "      <td>1</td>\n",
       "    </tr>\n",
       "    <tr>\n",
       "      <th>227624</th>\n",
       "      <td>2.000000</td>\n",
       "      <td>27.301448</td>\n",
       "      <td>2.000000</td>\n",
       "      <td>49.0</td>\n",
       "      <td>4.5141</td>\n",
       "      <td>0.3303</td>\n",
       "      <td>0</td>\n",
       "      <td>0</td>\n",
       "      <td>0</td>\n",
       "      <td>1</td>\n",
       "      <td>...</td>\n",
       "      <td>0</td>\n",
       "      <td>0</td>\n",
       "      <td>0</td>\n",
       "      <td>0</td>\n",
       "      <td>0</td>\n",
       "      <td>0</td>\n",
       "      <td>1</td>\n",
       "      <td>0</td>\n",
       "      <td>0</td>\n",
       "      <td>0</td>\n",
       "    </tr>\n",
       "    <tr>\n",
       "      <th>227625</th>\n",
       "      <td>3.011497</td>\n",
       "      <td>31.651317</td>\n",
       "      <td>2.062343</td>\n",
       "      <td>45.0</td>\n",
       "      <td>4.5141</td>\n",
       "      <td>0.0367</td>\n",
       "      <td>0</td>\n",
       "      <td>1</td>\n",
       "      <td>0</td>\n",
       "      <td>0</td>\n",
       "      <td>...</td>\n",
       "      <td>0</td>\n",
       "      <td>0</td>\n",
       "      <td>0</td>\n",
       "      <td>0</td>\n",
       "      <td>0</td>\n",
       "      <td>0</td>\n",
       "      <td>0</td>\n",
       "      <td>0</td>\n",
       "      <td>0</td>\n",
       "      <td>1</td>\n",
       "    </tr>\n",
       "  </tbody>\n",
       "</table>\n",
       "<p>88708 rows × 63 columns</p>\n",
       "</div>"
      ],
      "text/plain": [
       "        num_weekly_services_utilized  weekly_consumption_hour  \\\n",
       "1                           3.011497                22.951579   \n",
       "4                           4.000000                22.951579   \n",
       "5                           3.011497                20.051667   \n",
       "6                           2.000000                20.051667   \n",
       "8                           3.011497                25.851492   \n",
       "...                              ...                      ...   \n",
       "227615                      3.011497                24.401536   \n",
       "227621                      3.011497                28.751405   \n",
       "227623                      3.000000                28.751405   \n",
       "227624                      2.000000                27.301448   \n",
       "227625                      3.011497                31.651317   \n",
       "\n",
       "        num_ideal_streaming_services   age  discount_price  join_fee  churn  \\\n",
       "1                           2.062343  70.0          4.5141    0.3303      0   \n",
       "4                           3.000000  28.0          4.5141    0.0367      0   \n",
       "5                           2.062343  70.0          4.5141    0.3303      0   \n",
       "6                           2.000000  61.0          4.5141    0.3303      0   \n",
       "8                           2.062343  73.0          4.5141    0.6606      0   \n",
       "...                              ...   ...             ...       ...    ...   \n",
       "227615                      2.062343  30.0          4.5141    0.0367      0   \n",
       "227621                      2.062343  61.0          4.5141    0.3303      0   \n",
       "227623                      2.000000  38.0          4.5141    0.3303      0   \n",
       "227624                      2.000000  49.0          4.5141    0.3303      0   \n",
       "227625                      2.062343  45.0          4.5141    0.0367      0   \n",
       "\n",
       "        package_type_base  package_type_economy  package_type_enhanced  ...  \\\n",
       "1                       1                     0                      0  ...   \n",
       "4                       1                     0                      0  ...   \n",
       "5                       1                     0                      0  ...   \n",
       "6                       1                     0                      0  ...   \n",
       "8                       1                     0                      0  ...   \n",
       "...                   ...                   ...                    ...  ...   \n",
       "227615                  1                     0                      0  ...   \n",
       "227621                  0                     0                      1  ...   \n",
       "227623                  0                     0                      1  ...   \n",
       "227624                  0                     0                      1  ...   \n",
       "227625                  1                     0                      0  ...   \n",
       "\n",
       "        attribution_technical_search  attribution_technical_tv  \\\n",
       "1                                  0                         0   \n",
       "4                                  0                         0   \n",
       "5                                  0                         0   \n",
       "6                                  0                         0   \n",
       "8                                  0                         0   \n",
       "...                              ...                       ...   \n",
       "227615                             0                         0   \n",
       "227621                             0                         0   \n",
       "227623                             0                         0   \n",
       "227624                             0                         0   \n",
       "227625                             0                         0   \n",
       "\n",
       "        attribution_technical_twitter  attribution_technical_vod  \\\n",
       "1                                   0                          0   \n",
       "4                                   0                          0   \n",
       "5                                   0                          0   \n",
       "6                                   0                          0   \n",
       "8                                   0                          0   \n",
       "...                               ...                        ...   \n",
       "227615                              0                          0   \n",
       "227621                              0                          0   \n",
       "227623                              0                          0   \n",
       "227624                              0                          0   \n",
       "227625                              0                          0   \n",
       "\n",
       "        attribution_technical_youtube  payment_type_Najim  \\\n",
       "1                                   0                   0   \n",
       "4                                   0                   0   \n",
       "5                                   0                   0   \n",
       "6                                   0                   0   \n",
       "8                                   0                   0   \n",
       "...                               ...                 ...   \n",
       "227615                              1                   0   \n",
       "227621                              0                   0   \n",
       "227623                              0                   0   \n",
       "227624                              0                   0   \n",
       "227625                              0                   0   \n",
       "\n",
       "        payment_type_Paypal  payment_type_RAKBANK  \\\n",
       "1                         0                     0   \n",
       "4                         0                     0   \n",
       "5                         0                     1   \n",
       "6                         0                     0   \n",
       "8                         0                     0   \n",
       "...                     ...                   ...   \n",
       "227615                    1                     0   \n",
       "227621                    0                     0   \n",
       "227623                    0                     0   \n",
       "227624                    1                     0   \n",
       "227625                    0                     0   \n",
       "\n",
       "        payment_type_Standard Charter  payment_type_Unknow  \n",
       "1                                   0                    1  \n",
       "4                                   0                    1  \n",
       "5                                   0                    0  \n",
       "6                                   1                    0  \n",
       "8                                   0                    1  \n",
       "...                               ...                  ...  \n",
       "227615                              0                    0  \n",
       "227621                              0                    1  \n",
       "227623                              0                    1  \n",
       "227624                              0                    0  \n",
       "227625                              0                    1  \n",
       "\n",
       "[88708 rows x 63 columns]"
      ]
     },
     "execution_count": 18,
     "metadata": {},
     "output_type": "execute_result"
    }
   ],
   "source": [
    "df_long"
   ]
  },
  {
   "cell_type": "code",
   "execution_count": 19,
   "metadata": {},
   "outputs": [
    {
     "data": {
      "text/html": [
       "<div>\n",
       "<style scoped>\n",
       "    .dataframe tbody tr th:only-of-type {\n",
       "        vertical-align: middle;\n",
       "    }\n",
       "\n",
       "    .dataframe tbody tr th {\n",
       "        vertical-align: top;\n",
       "    }\n",
       "\n",
       "    .dataframe thead th {\n",
       "        text-align: right;\n",
       "    }\n",
       "</style>\n",
       "<table border=\"1\" class=\"dataframe\">\n",
       "  <thead>\n",
       "    <tr style=\"text-align: right;\">\n",
       "      <th></th>\n",
       "      <th>num_weekly_services_utilized</th>\n",
       "      <th>weekly_consumption_hour</th>\n",
       "      <th>num_ideal_streaming_services</th>\n",
       "      <th>age</th>\n",
       "      <th>discount_price</th>\n",
       "      <th>join_fee</th>\n",
       "      <th>churn</th>\n",
       "      <th>package_type_base</th>\n",
       "      <th>package_type_economy</th>\n",
       "      <th>package_type_enhanced</th>\n",
       "      <th>...</th>\n",
       "      <th>attribution_technical_search</th>\n",
       "      <th>attribution_technical_tv</th>\n",
       "      <th>attribution_technical_twitter</th>\n",
       "      <th>attribution_technical_vod</th>\n",
       "      <th>attribution_technical_youtube</th>\n",
       "      <th>payment_type_Najim</th>\n",
       "      <th>payment_type_Paypal</th>\n",
       "      <th>payment_type_RAKBANK</th>\n",
       "      <th>payment_type_Standard Charter</th>\n",
       "      <th>payment_type_Unknow</th>\n",
       "    </tr>\n",
       "  </thead>\n",
       "  <tbody>\n",
       "    <tr>\n",
       "      <th>2</th>\n",
       "      <td>3.000000</td>\n",
       "      <td>36.001186</td>\n",
       "      <td>2.000000</td>\n",
       "      <td>25.0</td>\n",
       "      <td>4.5141</td>\n",
       "      <td>0.1101</td>\n",
       "      <td>1</td>\n",
       "      <td>0</td>\n",
       "      <td>0</td>\n",
       "      <td>1</td>\n",
       "      <td>...</td>\n",
       "      <td>0</td>\n",
       "      <td>0</td>\n",
       "      <td>0</td>\n",
       "      <td>0</td>\n",
       "      <td>0</td>\n",
       "      <td>0</td>\n",
       "      <td>0</td>\n",
       "      <td>0</td>\n",
       "      <td>0</td>\n",
       "      <td>1</td>\n",
       "    </tr>\n",
       "    <tr>\n",
       "      <th>3</th>\n",
       "      <td>3.011497</td>\n",
       "      <td>20.051667</td>\n",
       "      <td>2.062343</td>\n",
       "      <td>30.0</td>\n",
       "      <td>4.5141</td>\n",
       "      <td>0.0367</td>\n",
       "      <td>1</td>\n",
       "      <td>1</td>\n",
       "      <td>0</td>\n",
       "      <td>0</td>\n",
       "      <td>...</td>\n",
       "      <td>1</td>\n",
       "      <td>0</td>\n",
       "      <td>0</td>\n",
       "      <td>0</td>\n",
       "      <td>0</td>\n",
       "      <td>0</td>\n",
       "      <td>0</td>\n",
       "      <td>0</td>\n",
       "      <td>0</td>\n",
       "      <td>1</td>\n",
       "    </tr>\n",
       "    <tr>\n",
       "      <th>9</th>\n",
       "      <td>3.000000</td>\n",
       "      <td>28.751405</td>\n",
       "      <td>2.000000</td>\n",
       "      <td>71.0</td>\n",
       "      <td>4.5141</td>\n",
       "      <td>0.3303</td>\n",
       "      <td>1</td>\n",
       "      <td>0</td>\n",
       "      <td>1</td>\n",
       "      <td>0</td>\n",
       "      <td>...</td>\n",
       "      <td>1</td>\n",
       "      <td>0</td>\n",
       "      <td>0</td>\n",
       "      <td>0</td>\n",
       "      <td>0</td>\n",
       "      <td>0</td>\n",
       "      <td>0</td>\n",
       "      <td>0</td>\n",
       "      <td>0</td>\n",
       "      <td>1</td>\n",
       "    </tr>\n",
       "    <tr>\n",
       "      <th>12</th>\n",
       "      <td>2.000000</td>\n",
       "      <td>28.751405</td>\n",
       "      <td>2.000000</td>\n",
       "      <td>57.0</td>\n",
       "      <td>4.5141</td>\n",
       "      <td>0.0367</td>\n",
       "      <td>1</td>\n",
       "      <td>1</td>\n",
       "      <td>0</td>\n",
       "      <td>0</td>\n",
       "      <td>...</td>\n",
       "      <td>0</td>\n",
       "      <td>0</td>\n",
       "      <td>0</td>\n",
       "      <td>0</td>\n",
       "      <td>0</td>\n",
       "      <td>0</td>\n",
       "      <td>0</td>\n",
       "      <td>0</td>\n",
       "      <td>0</td>\n",
       "      <td>1</td>\n",
       "    </tr>\n",
       "    <tr>\n",
       "      <th>13</th>\n",
       "      <td>3.000000</td>\n",
       "      <td>33.101274</td>\n",
       "      <td>2.000000</td>\n",
       "      <td>54.0</td>\n",
       "      <td>4.5141</td>\n",
       "      <td>0.0367</td>\n",
       "      <td>1</td>\n",
       "      <td>0</td>\n",
       "      <td>1</td>\n",
       "      <td>0</td>\n",
       "      <td>...</td>\n",
       "      <td>0</td>\n",
       "      <td>0</td>\n",
       "      <td>0</td>\n",
       "      <td>0</td>\n",
       "      <td>0</td>\n",
       "      <td>0</td>\n",
       "      <td>0</td>\n",
       "      <td>0</td>\n",
       "      <td>0</td>\n",
       "      <td>1</td>\n",
       "    </tr>\n",
       "    <tr>\n",
       "      <th>...</th>\n",
       "      <td>...</td>\n",
       "      <td>...</td>\n",
       "      <td>...</td>\n",
       "      <td>...</td>\n",
       "      <td>...</td>\n",
       "      <td>...</td>\n",
       "      <td>...</td>\n",
       "      <td>...</td>\n",
       "      <td>...</td>\n",
       "      <td>...</td>\n",
       "      <td>...</td>\n",
       "      <td>...</td>\n",
       "      <td>...</td>\n",
       "      <td>...</td>\n",
       "      <td>...</td>\n",
       "      <td>...</td>\n",
       "      <td>...</td>\n",
       "      <td>...</td>\n",
       "      <td>...</td>\n",
       "      <td>...</td>\n",
       "      <td>...</td>\n",
       "    </tr>\n",
       "    <tr>\n",
       "      <th>227606</th>\n",
       "      <td>3.000000</td>\n",
       "      <td>30.201361</td>\n",
       "      <td>2.000000</td>\n",
       "      <td>34.0</td>\n",
       "      <td>4.5141</td>\n",
       "      <td>0.0367</td>\n",
       "      <td>1</td>\n",
       "      <td>0</td>\n",
       "      <td>0</td>\n",
       "      <td>0</td>\n",
       "      <td>...</td>\n",
       "      <td>0</td>\n",
       "      <td>0</td>\n",
       "      <td>0</td>\n",
       "      <td>0</td>\n",
       "      <td>0</td>\n",
       "      <td>0</td>\n",
       "      <td>0</td>\n",
       "      <td>0</td>\n",
       "      <td>1</td>\n",
       "      <td>0</td>\n",
       "    </tr>\n",
       "    <tr>\n",
       "      <th>227613</th>\n",
       "      <td>3.000000</td>\n",
       "      <td>21.501623</td>\n",
       "      <td>2.000000</td>\n",
       "      <td>45.0</td>\n",
       "      <td>4.5141</td>\n",
       "      <td>0.0367</td>\n",
       "      <td>1</td>\n",
       "      <td>1</td>\n",
       "      <td>0</td>\n",
       "      <td>0</td>\n",
       "      <td>...</td>\n",
       "      <td>0</td>\n",
       "      <td>0</td>\n",
       "      <td>0</td>\n",
       "      <td>0</td>\n",
       "      <td>0</td>\n",
       "      <td>0</td>\n",
       "      <td>0</td>\n",
       "      <td>0</td>\n",
       "      <td>0</td>\n",
       "      <td>1</td>\n",
       "    </tr>\n",
       "    <tr>\n",
       "      <th>227614</th>\n",
       "      <td>2.000000</td>\n",
       "      <td>30.201361</td>\n",
       "      <td>2.000000</td>\n",
       "      <td>52.0</td>\n",
       "      <td>4.5141</td>\n",
       "      <td>0.0367</td>\n",
       "      <td>1</td>\n",
       "      <td>0</td>\n",
       "      <td>0</td>\n",
       "      <td>1</td>\n",
       "      <td>...</td>\n",
       "      <td>0</td>\n",
       "      <td>0</td>\n",
       "      <td>0</td>\n",
       "      <td>0</td>\n",
       "      <td>0</td>\n",
       "      <td>0</td>\n",
       "      <td>0</td>\n",
       "      <td>0</td>\n",
       "      <td>0</td>\n",
       "      <td>1</td>\n",
       "    </tr>\n",
       "    <tr>\n",
       "      <th>227618</th>\n",
       "      <td>3.011497</td>\n",
       "      <td>37.451142</td>\n",
       "      <td>2.062343</td>\n",
       "      <td>67.0</td>\n",
       "      <td>4.5141</td>\n",
       "      <td>0.0367</td>\n",
       "      <td>1</td>\n",
       "      <td>0</td>\n",
       "      <td>1</td>\n",
       "      <td>0</td>\n",
       "      <td>...</td>\n",
       "      <td>0</td>\n",
       "      <td>0</td>\n",
       "      <td>0</td>\n",
       "      <td>0</td>\n",
       "      <td>0</td>\n",
       "      <td>0</td>\n",
       "      <td>0</td>\n",
       "      <td>0</td>\n",
       "      <td>0</td>\n",
       "      <td>1</td>\n",
       "    </tr>\n",
       "    <tr>\n",
       "      <th>227627</th>\n",
       "      <td>3.011497</td>\n",
       "      <td>25.851492</td>\n",
       "      <td>2.062343</td>\n",
       "      <td>55.0</td>\n",
       "      <td>4.5141</td>\n",
       "      <td>0.0367</td>\n",
       "      <td>1</td>\n",
       "      <td>1</td>\n",
       "      <td>0</td>\n",
       "      <td>0</td>\n",
       "      <td>...</td>\n",
       "      <td>0</td>\n",
       "      <td>0</td>\n",
       "      <td>0</td>\n",
       "      <td>0</td>\n",
       "      <td>0</td>\n",
       "      <td>0</td>\n",
       "      <td>0</td>\n",
       "      <td>0</td>\n",
       "      <td>0</td>\n",
       "      <td>1</td>\n",
       "    </tr>\n",
       "  </tbody>\n",
       "</table>\n",
       "<p>67430 rows × 63 columns</p>\n",
       "</div>"
      ],
      "text/plain": [
       "        num_weekly_services_utilized  weekly_consumption_hour  \\\n",
       "2                           3.000000                36.001186   \n",
       "3                           3.011497                20.051667   \n",
       "9                           3.000000                28.751405   \n",
       "12                          2.000000                28.751405   \n",
       "13                          3.000000                33.101274   \n",
       "...                              ...                      ...   \n",
       "227606                      3.000000                30.201361   \n",
       "227613                      3.000000                21.501623   \n",
       "227614                      2.000000                30.201361   \n",
       "227618                      3.011497                37.451142   \n",
       "227627                      3.011497                25.851492   \n",
       "\n",
       "        num_ideal_streaming_services   age  discount_price  join_fee  churn  \\\n",
       "2                           2.000000  25.0          4.5141    0.1101      1   \n",
       "3                           2.062343  30.0          4.5141    0.0367      1   \n",
       "9                           2.000000  71.0          4.5141    0.3303      1   \n",
       "12                          2.000000  57.0          4.5141    0.0367      1   \n",
       "13                          2.000000  54.0          4.5141    0.0367      1   \n",
       "...                              ...   ...             ...       ...    ...   \n",
       "227606                      2.000000  34.0          4.5141    0.0367      1   \n",
       "227613                      2.000000  45.0          4.5141    0.0367      1   \n",
       "227614                      2.000000  52.0          4.5141    0.0367      1   \n",
       "227618                      2.062343  67.0          4.5141    0.0367      1   \n",
       "227627                      2.062343  55.0          4.5141    0.0367      1   \n",
       "\n",
       "        package_type_base  package_type_economy  package_type_enhanced  ...  \\\n",
       "2                       0                     0                      1  ...   \n",
       "3                       1                     0                      0  ...   \n",
       "9                       0                     1                      0  ...   \n",
       "12                      1                     0                      0  ...   \n",
       "13                      0                     1                      0  ...   \n",
       "...                   ...                   ...                    ...  ...   \n",
       "227606                  0                     0                      0  ...   \n",
       "227613                  1                     0                      0  ...   \n",
       "227614                  0                     0                      1  ...   \n",
       "227618                  0                     1                      0  ...   \n",
       "227627                  1                     0                      0  ...   \n",
       "\n",
       "        attribution_technical_search  attribution_technical_tv  \\\n",
       "2                                  0                         0   \n",
       "3                                  1                         0   \n",
       "9                                  1                         0   \n",
       "12                                 0                         0   \n",
       "13                                 0                         0   \n",
       "...                              ...                       ...   \n",
       "227606                             0                         0   \n",
       "227613                             0                         0   \n",
       "227614                             0                         0   \n",
       "227618                             0                         0   \n",
       "227627                             0                         0   \n",
       "\n",
       "        attribution_technical_twitter  attribution_technical_vod  \\\n",
       "2                                   0                          0   \n",
       "3                                   0                          0   \n",
       "9                                   0                          0   \n",
       "12                                  0                          0   \n",
       "13                                  0                          0   \n",
       "...                               ...                        ...   \n",
       "227606                              0                          0   \n",
       "227613                              0                          0   \n",
       "227614                              0                          0   \n",
       "227618                              0                          0   \n",
       "227627                              0                          0   \n",
       "\n",
       "        attribution_technical_youtube  payment_type_Najim  \\\n",
       "2                                   0                   0   \n",
       "3                                   0                   0   \n",
       "9                                   0                   0   \n",
       "12                                  0                   0   \n",
       "13                                  0                   0   \n",
       "...                               ...                 ...   \n",
       "227606                              0                   0   \n",
       "227613                              0                   0   \n",
       "227614                              0                   0   \n",
       "227618                              0                   0   \n",
       "227627                              0                   0   \n",
       "\n",
       "        payment_type_Paypal  payment_type_RAKBANK  \\\n",
       "2                         0                     0   \n",
       "3                         0                     0   \n",
       "9                         0                     0   \n",
       "12                        0                     0   \n",
       "13                        0                     0   \n",
       "...                     ...                   ...   \n",
       "227606                    0                     0   \n",
       "227613                    0                     0   \n",
       "227614                    0                     0   \n",
       "227618                    0                     0   \n",
       "227627                    0                     0   \n",
       "\n",
       "        payment_type_Standard Charter  payment_type_Unknow  \n",
       "2                                   0                    1  \n",
       "3                                   0                    1  \n",
       "9                                   0                    1  \n",
       "12                                  0                    1  \n",
       "13                                  0                    1  \n",
       "...                               ...                  ...  \n",
       "227606                              1                    0  \n",
       "227613                              0                    1  \n",
       "227614                              0                    1  \n",
       "227618                              0                    1  \n",
       "227627                              0                    1  \n",
       "\n",
       "[67430 rows x 63 columns]"
      ]
     },
     "execution_count": 19,
     "metadata": {},
     "output_type": "execute_result"
    }
   ],
   "source": [
    "df_period0"
   ]
  },
  {
   "cell_type": "code",
   "execution_count": 20,
   "metadata": {},
   "outputs": [
    {
     "data": {
      "text/plain": [
       "0    81290\n",
       "1     7418\n",
       "Name: churn, dtype: int64"
      ]
     },
     "execution_count": 20,
     "metadata": {},
     "output_type": "execute_result"
    }
   ],
   "source": [
    "df_long['churn'].value_counts()"
   ]
  },
  {
   "cell_type": "code",
   "execution_count": 21,
   "metadata": {},
   "outputs": [
    {
     "data": {
      "text/plain": [
       "1    62334\n",
       "0     5096\n",
       "Name: churn, dtype: int64"
      ]
     },
     "execution_count": 21,
     "metadata": {},
     "output_type": "execute_result"
    }
   ],
   "source": [
    "df_period0['churn'].value_counts()"
   ]
  },
  {
   "cell_type": "code",
   "execution_count": 22,
   "metadata": {},
   "outputs": [],
   "source": [
    "X_0 = df_period0.loc[:, df_period0.columns != 'churn']\n",
    "y_0 = df_period0.loc[:, df_period0.columns == 'churn']"
   ]
  },
  {
   "cell_type": "code",
   "execution_count": 23,
   "metadata": {},
   "outputs": [],
   "source": [
    "X_1 = df_long.loc[:, df_long.columns != 'churn']\n",
    "y_1 = df_long.loc[:, df_long.columns == 'churn']"
   ]
  },
  {
   "cell_type": "code",
   "execution_count": 24,
   "metadata": {},
   "outputs": [],
   "source": [
    "X_train_0, X_test_0, y_train_0, y_test_0 = train_test_split(X_0, y_0, test_size=0.3, random_state=0)"
   ]
  },
  {
   "cell_type": "code",
   "execution_count": 25,
   "metadata": {},
   "outputs": [],
   "source": [
    "X_train_1, X_test_1, y_train_1, y_test_1 = train_test_split(X_1, y_1, test_size=0.3, random_state=0)"
   ]
  },
  {
   "cell_type": "code",
   "execution_count": 26,
   "metadata": {},
   "outputs": [],
   "source": [
    "import seaborn as sns\n",
    "sns.set(style=\"white\")"
   ]
  },
  {
   "cell_type": "code",
   "execution_count": 27,
   "metadata": {},
   "outputs": [
    {
     "data": {
      "image/png": "[encoded data removed]",
      "text/plain": [
       "<Figure size 432x288 with 1 Axes>"
      ]
     },
     "metadata": {},
     "output_type": "display_data"
    }
   ],
   "source": [
    "sns.countplot(x='churn',data=df_period0,palette='hls')\n",
    "plt.show()"
   ]
  },
  {
   "cell_type": "code",
   "execution_count": 28,
   "metadata": {},
   "outputs": [
    {
     "data": {
      "image/png": "[encoded data removed]",
      "text/plain": [
       "<Figure size 432x288 with 1 Axes>"
      ]
     },
     "metadata": {},
     "output_type": "display_data"
    }
   ],
   "source": [
    "sns.countplot(x='churn',data=df_long,palette='hls')\n",
    "plt.show()"
   ]
  },
  {
   "cell_type": "code",
   "execution_count": 87,
   "metadata": {},
   "outputs": [
    {
     "name": "stderr",
     "output_type": "stream",
     "text": [
      "/Users/natalie/opt/anaconda3/lib/python3.8/site-packages/sklearn/utils/validation.py:73: DataConversionWarning: A column-vector y was passed when a 1d array was expected. Please change the shape of y to (n_samples, ), for example using ravel().\n",
      "  return f(**kwargs)\n",
      "/Users/natalie/opt/anaconda3/lib/python3.8/site-packages/sklearn/linear_model/_logistic.py:762: ConvergenceWarning: lbfgs failed to converge (status=1):\n",
      "STOP: TOTAL NO. of ITERATIONS REACHED LIMIT.\n",
      "\n",
      "Increase the number of iterations (max_iter) or scale the data as shown in:\n",
      "    https://scikit-learn.org/stable/modules/preprocessing.html\n",
      "Please also refer to the documentation for alternative solver options:\n",
      "    https://scikit-learn.org/stable/modules/linear_model.html#logistic-regression\n",
      "  n_iter_i = _check_optimize_result(\n"
     ]
    }
   ],
   "source": [
    "clf_0 = LogisticRegression(random_state=0,class_weight='balanced').fit(X_train_0, y_train_0)"
   ]
  },
  {
   "cell_type": "code",
   "execution_count": 88,
   "metadata": {},
   "outputs": [
    {
     "data": {
      "text/plain": [
       "array([[-1.00437784e+00, -5.19819043e-02,  4.07168328e-02,\n",
       "         3.92837131e-02,  1.11403966e+00, -3.52998872e+00,\n",
       "        -1.16429916e+00, -2.99135667e-01, -1.77944629e+00,\n",
       "        -1.64645245e+00, -6.54141880e-01, -7.10636726e-01,\n",
       "        -3.74803947e-02, -7.29161474e-01, -7.41190530e-02,\n",
       "         4.45435049e-03, -3.22159946e-01, -1.58416222e+00,\n",
       "         1.12077558e+00,  1.92166913e+00,  2.16363224e+00,\n",
       "        -4.92789908e-01,  1.33097350e-01, -1.20932338e+00,\n",
       "         8.54699194e-01, -9.55356835e-02,  6.73332738e-01,\n",
       "        -5.29115563e-01,  1.39797299e+00,  6.96631845e-01,\n",
       "         7.58177637e-03,  4.05371827e-02,  3.58105591e-03,\n",
       "         1.27114901e+00,  7.80383805e-01, -1.82828412e+00,\n",
       "         5.23950441e-04,  1.53238071e+00,  1.05416319e+00,\n",
       "        -5.98838341e-01, -7.62051513e-03,  2.02082520e-01,\n",
       "        -2.08482921e-01, -4.61420477e-01, -3.72415550e-02,\n",
       "         1.88378969e+00,  2.30302889e-02,  1.18110414e-02,\n",
       "        -6.37273226e-01,  6.46889991e-02,  8.26588243e-01,\n",
       "         2.86809763e-02,  8.56553618e-01,  7.06373560e-03,\n",
       "         1.97916449e-03, -1.39884056e-01, -4.43338332e-01,\n",
       "         5.44952073e-02, -1.55569509e-01,  7.48715538e-02,\n",
       "        -1.64134515e-01, -4.50645019e-02]])"
      ]
     },
     "execution_count": 88,
     "metadata": {},
     "output_type": "execute_result"
    }
   ],
   "source": [
    "clf_0.coef_"
   ]
  },
  {
   "cell_type": "code",
   "execution_count": 93,
   "metadata": {},
   "outputs": [],
   "source": [
    "clf0=[]\n",
    "for i in clf_0.coef_:\n",
    "    for n in i:\n",
    "        clf0.append(n)"
   ]
  },
  {
   "cell_type": "code",
   "execution_count": 95,
   "metadata": {},
   "outputs": [],
   "source": [
    "C0=pd.DataFrame(clf0,X_train_0.columns)"
   ]
  },
  {
   "cell_type": "code",
   "execution_count": 96,
   "metadata": {},
   "outputs": [],
   "source": [
    "C0.to_csv('coefficient_for_period0.csv')"
   ]
  },
  {
   "cell_type": "code",
   "execution_count": 31,
   "metadata": {},
   "outputs": [
    {
     "data": {
      "text/plain": [
       "0.8062187947995452"
      ]
     },
     "execution_count": 31,
     "metadata": {},
     "output_type": "execute_result"
    }
   ],
   "source": [
    "clf_0.score(X_test_0,y_test_0)"
   ]
  },
  {
   "cell_type": "code",
   "execution_count": 32,
   "metadata": {},
   "outputs": [
    {
     "data": {
      "text/plain": [
       "0.8182823837367482"
      ]
     },
     "execution_count": 32,
     "metadata": {},
     "output_type": "execute_result"
    }
   ],
   "source": [
    "\n",
    "roc_auc_score(y_test_0, clf_0.predict(X_test_0))"
   ]
  },
  {
   "cell_type": "code",
   "execution_count": 33,
   "metadata": {},
   "outputs": [
    {
     "name": "stdout",
     "output_type": "stream",
     "text": [
      "[[ 1247   251]\n",
      " [ 3669 15062]]\n"
     ]
    }
   ],
   "source": [
    "\n",
    "confusion_matrix1 = confusion_matrix(y_test_0, clf_0.predict(X_test_0))\n",
    "print(confusion_matrix1)"
   ]
  },
  {
   "cell_type": "code",
   "execution_count": 34,
   "metadata": {},
   "outputs": [],
   "source": [
    "fpr, tpr, thresholds = metrics.roc_curve(y_test_0, clf_0.predict(X_test_0))"
   ]
  },
  {
   "cell_type": "code",
   "execution_count": 35,
   "metadata": {},
   "outputs": [
    {
     "data": {
      "image/png": "[encoded data removed]",
      "text/plain": [
       "<Figure size 432x288 with 1 Axes>"
      ]
     },
     "metadata": {},
     "output_type": "display_data"
    }
   ],
   "source": [
    "plt.plot(fpr,tpr,marker='o')\n",
    "plt.show()"
   ]
  },
  {
   "cell_type": "code",
   "execution_count": 36,
   "metadata": {},
   "outputs": [
    {
     "name": "stderr",
     "output_type": "stream",
     "text": [
      "/Users/natalie/opt/anaconda3/lib/python3.8/site-packages/sklearn/utils/validation.py:73: DataConversionWarning: A column-vector y was passed when a 1d array was expected. Please change the shape of y to (n_samples, ), for example using ravel().\n",
      "  return f(**kwargs)\n",
      "/Users/natalie/opt/anaconda3/lib/python3.8/site-packages/sklearn/linear_model/_logistic.py:762: ConvergenceWarning: lbfgs failed to converge (status=1):\n",
      "STOP: TOTAL NO. of ITERATIONS REACHED LIMIT.\n",
      "\n",
      "Increase the number of iterations (max_iter) or scale the data as shown in:\n",
      "    https://scikit-learn.org/stable/modules/preprocessing.html\n",
      "Please also refer to the documentation for alternative solver options:\n",
      "    https://scikit-learn.org/stable/modules/linear_model.html#logistic-regression\n",
      "  n_iter_i = _check_optimize_result(\n"
     ]
    }
   ],
   "source": [
    "\n",
    "clf_1 = LogisticRegression(random_state=0,class_weight='balanced').fit(X_train_1, y_train_1)"
   ]
  },
  {
   "cell_type": "code",
   "execution_count": 37,
   "metadata": {},
   "outputs": [
    {
     "data": {
      "text/plain": [
       "0.8078758501484237"
      ]
     },
     "execution_count": 37,
     "metadata": {},
     "output_type": "execute_result"
    }
   ],
   "source": [
    "clf_1.score(X_test_1,y_test_1)"
   ]
  },
  {
   "cell_type": "code",
   "execution_count": 38,
   "metadata": {},
   "outputs": [
    {
     "data": {
      "text/plain": [
       "0.8228396712368793"
      ]
     },
     "execution_count": 38,
     "metadata": {},
     "output_type": "execute_result"
    }
   ],
   "source": [
    "roc_auc_score(y_test_1, clf_1.predict(X_test_1))"
   ]
  },
  {
   "cell_type": "code",
   "execution_count": 39,
   "metadata": {},
   "outputs": [
    {
     "name": "stdout",
     "output_type": "stream",
     "text": [
      "[[19652  4763]\n",
      " [  350  1848]]\n"
     ]
    }
   ],
   "source": [
    "\n",
    "confusion_matrix = confusion_matrix(y_test_1, clf_1.predict(X_test_1))\n",
    "print(confusion_matrix)"
   ]
  },
  {
   "cell_type": "code",
   "execution_count": 40,
   "metadata": {},
   "outputs": [],
   "source": [
    "fpr1, tpr1, thresholds = metrics.roc_curve(y_test_1, clf_1.predict(X_test_1))"
   ]
  },
  {
   "cell_type": "code",
   "execution_count": 41,
   "metadata": {},
   "outputs": [
    {
     "data": {
      "image/png": "[encoded data removed]",
      "text/plain": [
       "<Figure size 432x288 with 1 Axes>"
      ]
     },
     "metadata": {},
     "output_type": "display_data"
    }
   ],
   "source": [
    "plt.plot(fpr1,tpr1,marker='o')\n",
    "plt.show()"
   ]
  },
  {
   "cell_type": "code",
   "execution_count": 42,
   "metadata": {},
   "outputs": [],
   "source": [
    "\n",
    "array1 = clf_1.coef_\n",
    "#temp = array.argsort()\n",
    "#ranks = np.empty_like(temp)\n",
    "#ranks\n",
    "order1 = array1.argsort()\n",
    "ranks1 = order1.argsort()\n"
   ]
  },
  {
   "cell_type": "code",
   "execution_count": 97,
   "metadata": {},
   "outputs": [],
   "source": [
    "coef1=[]\n",
    "for i in clf_1.coef_:\n",
    "    for n in i:\n",
    "        #print(n)\n",
    "        coef1.append(n)"
   ]
  },
  {
   "cell_type": "code",
   "execution_count": null,
   "metadata": {},
   "outputs": [],
   "source": []
  },
  {
   "cell_type": "code",
   "execution_count": 98,
   "metadata": {},
   "outputs": [],
   "source": [
    "C1=pd.DataFrame(coef1,X_1.columns)"
   ]
  },
  {
   "cell_type": "code",
   "execution_count": 99,
   "metadata": {},
   "outputs": [],
   "source": [
    "C1.to_csv('coefficient_for_period_long.csv')"
   ]
  },
  {
   "cell_type": "code",
   "execution_count": null,
   "metadata": {},
   "outputs": [],
   "source": []
  }
 ],
 "metadata": {
  "kernelspec": {
   "display_name": "Python 3",
   "language": "python",
   "name": "python3"
  },
  "language_info": {
   "codemirror_mode": {
    "name": "ipython",
    "version": 3
   },
   "file_extension": ".py",
   "mimetype": "text/x-python",
   "name": "python",
   "nbconvert_exporter": "python",
   "pygments_lexer": "ipython3",
   "version": "3.8.3"
  }
 },
 "nbformat": 4,
 "nbformat_minor": 4
}
